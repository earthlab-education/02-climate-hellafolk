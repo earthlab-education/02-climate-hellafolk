{
  "cells": [
    {
      "cell_type": "markdown",
      "id": "b07943d0-6b33-4fc0-9f91-6cc8b6198a2c",
      "metadata": {},
      "source": [
        "The citation:\n",
        "McKain, K., Sweeney, C., Baier, B., Baugh, K., Crotwell, A., Crotwell, M., Handley, P., Higgs, J., Kaiser, E., Madronich, Mauss, J., M., Miller, J. B., Moglia, E., Morris, S., Mund, J., Newberger, T., Petron, G., Verbeke, B., Wolter, S., & NOAA Global Monitoring Laboratory. NOAA Global Greenhouse Gas Reference Network Flask-Air PFP Sample Measurements of CO2, CH4, CO, N2O, H2, SF6 and isotopic ratios collected from aircraft vertical profiles [Data set]. Version: 2025-09-25. https://doi.org/10.15138/39HR-9N34\n"
      ]
    },
    {
      "cell_type": "code",
      "execution_count": null,
      "id": "c72d1b48",
      "metadata": {},
      "outputs": [],
      "source": [
        "# Import required packages\n",
        "import earthpy # Manage local data\n",
        "import pandas as pd #Used to help manage and manipulate our dataset, and for analysis. For working with tabular data"
      ]
    },
    {
      "cell_type": "code",
      "execution_count": null,
      "id": "304635fa",
      "metadata": {
        "template": "student"
      },
      "outputs": [],
      "source": [
        "#Import the data\n",
        "thd_co2_data = (\n",
        "    \"https://gml.noaa.gov/aftp/data/trace_gases/co2/pfp/aircraft/txt/\"\n",
        "    \"co2_thd_aircraft-pfp_1_ccgg_event.txt\"\n",
        ")\n",
        "\n"
      ]
    },
    {
      "cell_type": "code",
      "execution_count": 1,
      "id": "2056b44a",
      "metadata": {
        "template": "student"
      },
      "outputs": [
        {
          "ename": "NameError",
          "evalue": "name 'pd' is not defined",
          "output_type": "error",
          "traceback": [
            "\u001b[31m---------------------------------------------------------------------------\u001b[39m",
            "\u001b[31mNameError\u001b[39m                                 Traceback (most recent call last)",
            "\u001b[36mCell\u001b[39m\u001b[36m \u001b[39m\u001b[32mIn[1]\u001b[39m\u001b[32m, line 2\u001b[39m\n\u001b[32m      1\u001b[39m \u001b[38;5;66;03m#Taking out the informational headers and such\u001b[39;00m\n\u001b[32m----> \u001b[39m\u001b[32m2\u001b[39m co2_df = \u001b[43mpd\u001b[49m.read_csv(\n\u001b[32m      3\u001b[39m     thd_co2_data,\n\u001b[32m      4\u001b[39m     sep=\u001b[33mr\u001b[39m\u001b[33m\"\u001b[39m\u001b[33m\\\u001b[39m\u001b[33ms+\u001b[39m\u001b[33m\"\u001b[39m,        \u001b[38;5;66;03m# replaces delim_whitespace=True\u001b[39;00m\n\u001b[32m      5\u001b[39m     comment=\u001b[33m\"\u001b[39m\u001b[33m#\u001b[39m\u001b[33m\"\u001b[39m,        \u001b[38;5;66;03m# skip metadata/header lines\u001b[39;00m\n\u001b[32m      6\u001b[39m     na_values=[\u001b[33m\"\u001b[39m\u001b[33m-999.99\u001b[39m\u001b[33m\"\u001b[39m]\n\u001b[32m      7\u001b[39m )\n\u001b[32m      9\u001b[39m \u001b[38;5;28mprint\u001b[39m(co2_df.head())\n",
            "\u001b[31mNameError\u001b[39m: name 'pd' is not defined"
          ]
        }
      ],
      "source": [
        "#Taking out the informational headers and such\n",
        "co2_df = pd.read_csv(\n",
        "    thd_co2_data,\n",
        "    sep=r\"\\s+\",        # replaces delim_whitespace=True\n",
        "    comment=\"#\",        # skip metadata/header lines\n",
        "    na_values=[\"-999.99\"]\n",
        ")\n",
        "\n",
        "print(co2_df.head())"
      ]
    },
    {
      "cell_type": "markdown",
      "id": "9549c015-61b0-44ff-aecc-5bb874800c1d",
      "metadata": {},
      "source": [
        "## Save climate data to your computer\n",
        "\n",
        "<link rel=\"stylesheet\" type=\"text/css\" href=\"./assets/styles.css\"><div class=\"callout callout-style-default callout-titled callout-task\"><div class=\"callout-header\"><div class=\"callout-icon-container\"><i class=\"callout-icon\"></i></div><div class=\"callout-title-container flex-fill\">Try It</div></div><div class=\"callout-body-container callout-body\"><ol type=\"1\">\n",
        "<li>Replace <code>filename</code> with the name of the file you want to\n",
        "save your data in. Your data file should end up in the same folder<br />\n",
        "</li>\n",
        "<li>(optional) You can also construct a <strong>reproducible file\n",
        "path</strong> using the <code>pathlib</code> or <code>os</code>\n",
        "libraries and use that, or use <code>earthpy</code> to make a data\n",
        "directory based on your system settings.</li>\n",
        "<li>Run the code to save your data</li>\n",
        "</ol></div></div>\n",
        "\n",
        "> **Warning**\n",
        ">\n",
        "> For this activity it’s fine, but as a general rule you don’t want to\n",
        "> upload data files to a GitHub repository! You can get into a situation\n",
        "> where it’s impossible to upload to GitHub."
      ]
    },
    {
      "cell_type": "code",
      "execution_count": null,
      "id": "90920cb9",
      "metadata": {
        "template": "student"
      },
      "outputs": [],
      "source": [
        "# Save the climate data\n",
        "co2_df.to_csv('thd_co2.csv')"
      ]
    },
    {
      "cell_type": "markdown",
      "id": "3d33d65a-5107-450e-b7cd-98ef5643f07e",
      "metadata": {},
      "source": [
        "# STEP -1: Wrap up\n",
        "\n",
        "Don’t forget to store your variables so you can use them in other\n",
        "notebooks! Replace `var1` and `var2` with the variable you want to save,\n",
        "separated by spaces."
      ]
    },
    {
      "cell_type": "code",
      "execution_count": null,
      "id": "62f538c1",
      "metadata": {},
      "outputs": [
        {
          "name": "stdout",
          "output_type": "stream",
          "text": [
            "Stored 'co2_df' (DataFrame)\n"
          ]
        }
      ],
      "source": [
        "%store co2_df"
      ]
    },
    {
      "cell_type": "markdown",
      "id": "8650476f-3f75-4964-abde-94c8ded41d9a",
      "metadata": {},
      "source": [
        "Finally, be sure to `Restart` and `Run all` to make sure your notebook\n",
        "works all the way through!"
      ]
    }
  ],
  "metadata": {
    "kernelspec": {
      "display_name": "base",
      "language": "python",
      "name": "python3"
    },
    "language_info": {
      "codemirror_mode": {
        "name": "ipython",
        "version": 3
      },
      "file_extension": ".py",
      "mimetype": "text/x-python",
      "name": "python",
      "nbconvert_exporter": "python",
      "pygments_lexer": "ipython3",
      "version": "3.11.6"
    }
  },
  "nbformat": 4,
  "nbformat_minor": 5
}
