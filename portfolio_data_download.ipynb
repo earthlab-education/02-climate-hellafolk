{
  "cells": [
    {
      "cell_type": "markdown",
      "id": "b07943d0-6b33-4fc0-9f91-6cc8b6198a2c",
      "metadata": {},
      "source": [
        "The citation:\n",
        "McKain, K., Sweeney, C., Baier, B., Baugh, K., Crotwell, A., Crotwell, M., Handley, P., Higgs, J., Kaiser, E., Madronich, Mauss, J., M., Miller, J. B., Moglia, E., Morris, S., Mund, J., Newberger, T., Petron, G., Verbeke, B., Wolter, S., & NOAA Global Monitoring Laboratory. NOAA Global Greenhouse Gas Reference Network Flask-Air PFP Sample Measurements of CO2, CH4, CO, N2O, H2, SF6 and isotopic ratios collected from aircraft vertical profiles [Data set]. Version: 2025-09-25. https://doi.org/10.15138/39HR-9N34\n"
      ]
    },
    {
      "cell_type": "code",
      "execution_count": 1,
      "id": "c72d1b48",
      "metadata": {},
      "outputs": [],
      "source": [
        "# Import required packages\n",
        "import earthpy # Manage local data\n",
        "import pandas as pd #Used to help manage and manipulate our dataset, and for analysis. For working with tabular data"
      ]
    },
    {
      "cell_type": "code",
      "execution_count": 2,
      "id": "304635fa",
      "metadata": {
        "template": "student"
      },
      "outputs": [],
      "source": [
        "#Import the data\n",
        "thd_co2_data = (\n",
        "    \"https://gml.noaa.gov/aftp/data/trace_gases/co2/pfp/aircraft/txt/\"\n",
        "    \"co2_thd_aircraft-pfp_1_ccgg_event.txt\"\n",
        ")\n",
        "\n"
      ]
    },
    {
      "cell_type": "code",
      "execution_count": 3,
      "id": "2056b44a",
      "metadata": {
        "template": "student"
      },
      "outputs": [
        {
          "name": "stdout",
          "output_type": "stream",
          "text": [
            "  site_code  year  month  day  hour  minute  second              datetime  \\\n",
            "0       THD  2003      9    2    23       2       0  2003-09-02T23:02:00Z   \n",
            "1       THD  2003      9    2    23       8       0  2003-09-02T23:08:00Z   \n",
            "2       THD  2003      9    2    23      12       0  2003-09-02T23:12:00Z   \n",
            "3       THD  2003      9    2    23      16       0  2003-09-02T23:16:00Z   \n",
            "4       THD  2003      9    2    23      19       0  2003-09-02T23:19:00Z   \n",
            "\n",
            "   time_decimal air_sample_container_id  ...  latitude  longitude  altitude  \\\n",
            "0   2003.671123                  223-01  ...     41.05    -124.15    7620.0   \n",
            "1   2003.671134                  223-02  ...     41.05    -124.15    7162.8   \n",
            "2   2003.671142                  223-03  ...     41.05    -124.15    6705.6   \n",
            "3   2003.671149                  223-04  ...     41.05    -124.15    6248.4   \n",
            "4   2003.671155                  223-05  ...     41.05    -124.15    5791.2   \n",
            "\n",
            "   elevation  intake_height  method  event_number instrument  \\\n",
            "0        0.0         7620.0       A        188130         L3   \n",
            "1        0.0         7162.8       A        188131         L3   \n",
            "2        0.0         6705.6       A        188132         L3   \n",
            "3        0.0         6248.4       A        188133         L3   \n",
            "4        0.0         5791.2       A        188134         L3   \n",
            "\n",
            "     analysis_datetime qcflag  \n",
            "0  2003-09-10T18:23:00    ...  \n",
            "1  2003-09-10T18:37:00    ...  \n",
            "2  2003-09-10T18:50:00    ...  \n",
            "3  2003-09-10T19:03:00    ...  \n",
            "4  2003-09-10T19:16:00    ...  \n",
            "\n",
            "[5 rows x 22 columns]\n"
          ]
        }
      ],
      "source": [
        "#Taking out the informational headers and such\n",
        "co2_df = pd.read_csv(\n",
        "    thd_co2_data,\n",
        "    sep=r\"\\s+\",        # replaces delim_whitespace=True\n",
        "    comment=\"#\",        # skip metadata/header lines\n",
        "    na_values=[\"-999.99\"]\n",
        ")\n",
        "\n",
        "print(co2_df.head())"
      ]
    },
    {
      "cell_type": "markdown",
      "id": "9549c015-61b0-44ff-aecc-5bb874800c1d",
      "metadata": {},
      "source": [
        "## Save climate data to your computer\n",
        "\n",
        "<link rel=\"stylesheet\" type=\"text/css\" href=\"./assets/styles.css\"><div class=\"callout callout-style-default callout-titled callout-task\"><div class=\"callout-header\"><div class=\"callout-icon-container\"><i class=\"callout-icon\"></i></div><div class=\"callout-title-container flex-fill\">Try It</div></div><div class=\"callout-body-container callout-body\"><ol type=\"1\">\n",
        "<li>Replace <code>filename</code> with the name of the file you want to\n",
        "save your data in. Your data file should end up in the same folder<br />\n",
        "</li>\n",
        "<li>(optional) You can also construct a <strong>reproducible file\n",
        "path</strong> using the <code>pathlib</code> or <code>os</code>\n",
        "libraries and use that, or use <code>earthpy</code> to make a data\n",
        "directory based on your system settings.</li>\n",
        "<li>Run the code to save your data</li>\n",
        "</ol></div></div>\n",
        "\n",
        "> **Warning**\n",
        ">\n",
        "> For this activity it’s fine, but as a general rule you don’t want to\n",
        "> upload data files to a GitHub repository! You can get into a situation\n",
        "> where it’s impossible to upload to GitHub."
      ]
    },
    {
      "cell_type": "code",
      "execution_count": 4,
      "id": "90920cb9",
      "metadata": {
        "template": "student"
      },
      "outputs": [],
      "source": [
        "# Save the climate data\n",
        "co2_df.to_csv('thd_co2.csv')"
      ]
    },
    {
      "cell_type": "markdown",
      "id": "3d33d65a-5107-450e-b7cd-98ef5643f07e",
      "metadata": {},
      "source": [
        "# STEP -1: Wrap up\n",
        "\n",
        "Don’t forget to store your variables so you can use them in other\n",
        "notebooks! Replace `var1` and `var2` with the variable you want to save,\n",
        "separated by spaces."
      ]
    },
    {
      "cell_type": "code",
      "execution_count": 5,
      "id": "62f538c1",
      "metadata": {},
      "outputs": [
        {
          "name": "stdout",
          "output_type": "stream",
          "text": [
            "Stored 'co2_df' (DataFrame)\n"
          ]
        }
      ],
      "source": [
        "%store co2_df"
      ]
    },
    {
      "cell_type": "markdown",
      "id": "8650476f-3f75-4964-abde-94c8ded41d9a",
      "metadata": {},
      "source": [
        "Finally, be sure to `Restart` and `Run all` to make sure your notebook\n",
        "works all the way through!"
      ]
    }
  ],
  "metadata": {
    "kernelspec": {
      "display_name": "base",
      "language": "python",
      "name": "python3"
    },
    "language_info": {
      "codemirror_mode": {
        "name": "ipython",
        "version": 3
      },
      "file_extension": ".py",
      "mimetype": "text/x-python",
      "name": "python",
      "nbconvert_exporter": "python",
      "pygments_lexer": "ipython3",
      "version": "3.11.6"
    }
  },
  "nbformat": 4,
  "nbformat_minor": 5
}
