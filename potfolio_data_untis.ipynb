{
  "cells": [
    {
      "cell_type": "markdown",
      "id": "197a923c-b548-4e86-b9b9-ce573d2fd6dc",
      "metadata": {},
      "source": [
        "# Climate Coding Challenge\n",
        "\n",
        "Climate change is impacting the way people live around the world\n",
        "\n",
        "# Convert units\n",
        "\n",
        "It’s important to keep track of the units of all your data. You don’t\n",
        "want to be like the [NASA team who crashed a probe into Mars because\n",
        "different teams used different\n",
        "units](https://www.latimes.com/archives/la-xpm-1999-oct-01-mn-17288-story.html))!\n",
        "\n",
        "## STEP 0: Set up\n",
        "\n",
        "To get started on this notebook, you’ll need to restore any variables\n",
        "from previous notebooks to your workspace. To save time and memory, make\n",
        "sure to specify which variables you want to load."
      ]
    },
    {
      "cell_type": "code",
      "execution_count": 1,
      "id": "cbf1ec90",
      "metadata": {},
      "outputs": [
        {
          "name": "stdout",
          "output_type": "stream",
          "text": [
            "     site_code  year  month  day  hour  minute  second              datetime  \\\n",
            "0          THD  2003      9    2    23       2       0  2003-09-02T23:02:00Z   \n",
            "1          THD  2003      9    2    23       8       0  2003-09-02T23:08:00Z   \n",
            "2          THD  2003      9    2    23      12       0  2003-09-02T23:12:00Z   \n",
            "3          THD  2003      9    2    23      16       0  2003-09-02T23:16:00Z   \n",
            "4          THD  2003      9    2    23      19       0  2003-09-02T23:19:00Z   \n",
            "...        ...   ...    ...  ...   ...     ...     ...                   ...   \n",
            "3603       THD  2024     12   30    22      30       9  2024-12-30T22:30:09Z   \n",
            "3604       THD  2024     12   30    22      33      25  2024-12-30T22:33:25Z   \n",
            "3605       THD  2024     12   30    22      36      39  2024-12-30T22:36:39Z   \n",
            "3606       THD  2024     12   30    22      39      49  2024-12-30T22:39:49Z   \n",
            "3607       THD  2024     12   30    22      42      43  2024-12-30T22:42:43Z   \n",
            "\n",
            "      time_decimal air_sample_container_id  ...  latitude  longitude  \\\n",
            "0      2003.671123                  223-01  ...   41.0500  -124.1500   \n",
            "1      2003.671134                  223-02  ...   41.0500  -124.1500   \n",
            "2      2003.671142                  223-03  ...   41.0500  -124.1500   \n",
            "3      2003.671149                  223-04  ...   41.0500  -124.1500   \n",
            "4      2003.671155                  223-05  ...   41.0500  -124.1500   \n",
            "...            ...                     ...  ...       ...        ...   \n",
            "3603   2024.997097                 3086-08  ...   41.1472  -124.2809   \n",
            "3604   2024.997103                 3086-09  ...   41.2227  -124.1738   \n",
            "3605   2024.997110                 3086-10  ...   41.2179  -124.1613   \n",
            "3606   2024.997116                 3086-11  ...   41.1971  -124.1532   \n",
            "3607   2024.997121                 3086-12  ...   41.1764  -124.1564   \n",
            "\n",
            "      altitude  elevation  intake_height  method  event_number instrument  \\\n",
            "0      7620.00        0.0        7620.00       A        188130         L3   \n",
            "1      7162.80        0.0        7162.80       A        188131         L3   \n",
            "2      6705.60        0.0        6705.60       A        188132         L3   \n",
            "3      6248.40        0.0        6248.40       A        188133         L3   \n",
            "4      5791.20        0.0        5791.20       A        188134         L3   \n",
            "...        ...        ...            ...     ...           ...        ...   \n",
            "3603   2665.78        0.0        2665.78       R        545591        PC2   \n",
            "3604   2082.09        0.0        2082.09       R        545592        PC2   \n",
            "3605   1490.17        0.0        1490.17       R        545593        PC2   \n",
            "3606    897.64        0.0         897.64       R        545594        PC2   \n",
            "3607    322.78        0.0         322.78       R        545595        PC2   \n",
            "\n",
            "        analysis_datetime qcflag  \n",
            "0     2003-09-10T18:23:00    ...  \n",
            "1     2003-09-10T18:37:00    ...  \n",
            "2     2003-09-10T18:50:00    ...  \n",
            "3     2003-09-10T19:03:00    ...  \n",
            "4     2003-09-10T19:16:00    ...  \n",
            "...                   ...    ...  \n",
            "3603  2025-01-03T08:58:14    ...  \n",
            "3604  2025-01-03T09:13:36    ...  \n",
            "3605  2025-01-03T09:28:59    ...  \n",
            "3606  2025-01-03T09:44:20    ...  \n",
            "3607  2025-01-03T09:59:44    ...  \n",
            "\n",
            "[3608 rows x 22 columns]\n"
          ]
        }
      ],
      "source": [
        "%store -r\n",
        "print(co2_df)"
      ]
    },
    {
      "cell_type": "markdown",
      "id": "ab67c1ad-90e4-4137-809a-64c253675f8d",
      "metadata": {},
      "source": [
        "## Use labels to keep track of units for you and your collaborators\n",
        "\n",
        "One way to keep track of your data’s units is to include the unit in\n",
        "data **labels**. In the case of a `DataFrame`, that usually means the\n",
        "column names.\n",
        "\n",
        "<link rel=\"stylesheet\" type=\"text/css\" href=\"./assets/styles.css\"><div class=\"callout callout-style-default callout-titled callout-task\"><div class=\"callout-header\"><div class=\"callout-icon-container\"><i class=\"callout-icon\"></i></div><div class=\"callout-title-container flex-fill\">Try It: Add units to your column name</div></div><div class=\"callout-body-container callout-body\"><p>A big part of writing <strong>expressive</strong> code is descriptive\n",
        "labels. Let’s rename the columns of your dataframe to include units.\n",
        "Complete the following steps:</p>\n",
        "<ol type=\"1\">\n",
        "<li>Replace <code>dataframe</code> with the name of\n",
        "<strong>your</strong> <code>DataFrame</code>, and\n",
        "<code>dataframe_units</code> with an expressive new name.</li>\n",
        "<li>Check out the <a\n",
        "href=\"https://www.ncei.noaa.gov/data/global-historical-climatology-network-daily/doc/GHCND_documentation.pdf\">documentation\n",
        "for GCHNd data</a>. We downloaded data with “standard” units; find out\n",
        "what that means for temperature.</li>\n",
        "<li>Replace <code>'temperature-column-name'</code> with the temperature\n",
        "column name in your data, and <code>'temp_unit'</code> with a column\n",
        "name that includes the correct unit. For example, you could make a\n",
        "column called <code>'temperature_k'</code> to note that your\n",
        "temperatures are in degrees Kelvin.</li>\n",
        "</ol></div></div>"
      ]
    },
    {
      "cell_type": "code",
      "execution_count": 2,
      "id": "a217da36",
      "metadata": {
        "template": "student"
      },
      "outputs": [
        {
          "name": "stdout",
          "output_type": "stream",
          "text": [
            "0       370.70\n",
            "1       370.89\n",
            "2       371.58\n",
            "3       371.24\n",
            "4       371.73\n",
            "         ...  \n",
            "3603    429.48\n",
            "3604    429.71\n",
            "3605    429.98\n",
            "3606    429.90\n",
            "3607    431.68\n",
            "Name: co2_ppm, Length: 3608, dtype: float64\n"
          ]
        }
      ],
      "source": [
        "#changing for portfolio project. adding the value is co2 in ppm\n",
        "\n",
        "thd_co2_units = co2_df.rename(columns={\n",
        "    'value': 'co2_ppm',\n",
        "})\n",
        "\n",
        "print(thd_co2_units['co2_ppm'])"
      ]
    },
    {
      "cell_type": "code",
      "execution_count": 3,
      "id": "a8241ca6",
      "metadata": {
        "template": "student"
      },
      "outputs": [
        {
          "name": "stdout",
          "output_type": "stream",
          "text": [
            "0       7620.00\n",
            "1       7162.80\n",
            "2       6705.60\n",
            "3       6248.40\n",
            "4       5791.20\n",
            "         ...   \n",
            "3603    2665.78\n",
            "3604    2082.09\n",
            "3605    1490.17\n",
            "3606     897.64\n",
            "3607     322.78\n",
            "Name: meters, Length: 3608, dtype: float64\n"
          ]
        }
      ],
      "source": [
        "## also adding that altitude is in meters\n",
        "thd_co2_units = co2_df.rename(columns={\n",
        "    'altitude': 'meters',\n",
        "})\n",
        "\n",
        "print(thd_co2_units['meters'])"
      ]
    },
    {
      "cell_type": "markdown",
      "id": "884b5215-cdc9-4cb1-927d-70f3b38bbc20",
      "metadata": {},
      "source": [
        "Finally, be sure to `Restart` and `Run all` to make sure your notebook\n",
        "works all the way through!"
      ]
    }
  ],
  "metadata": {
    "kernelspec": {
      "display_name": "base",
      "language": "python",
      "name": "python3"
    },
    "language_info": {
      "codemirror_mode": {
        "name": "ipython",
        "version": 3
      },
      "file_extension": ".py",
      "mimetype": "text/x-python",
      "name": "python",
      "nbconvert_exporter": "python",
      "pygments_lexer": "ipython3",
      "version": "3.11.6"
    }
  },
  "nbformat": 4,
  "nbformat_minor": 5
}
