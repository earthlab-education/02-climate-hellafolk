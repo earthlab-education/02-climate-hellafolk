{
  "cells": [
    {
      "cell_type": "markdown",
      "id": "197a923c-b548-4e86-b9b9-ce573d2fd6dc",
      "metadata": {},
      "source": [
        "# Climate Coding Challenge\n",
        "\n",
        "Climate change is impacting the way people live around the world\n",
        "\n",
        "# Convert units\n",
        "\n",
        "It’s important to keep track of the units of all your data. You don’t\n",
        "want to be like the [NASA team who crashed a probe into Mars because\n",
        "different teams used different\n",
        "units](https://www.latimes.com/archives/la-xpm-1999-oct-01-mn-17288-story.html))!\n",
        "\n",
        "## STEP 0: Set up\n",
        "\n",
        "To get started on this notebook, you’ll need to restore any variables\n",
        "from previous notebooks to your workspace. To save time and memory, make\n",
        "sure to specify which variables you want to load."
      ]
    },
    {
      "cell_type": "code",
      "execution_count": null,
      "id": "cbf1ec90",
      "metadata": {},
      "outputs": [],
      "source": [
        "%store -r\n",
        "print(co2_df)"
      ]
    },
    {
      "cell_type": "markdown",
      "id": "ab67c1ad-90e4-4137-809a-64c253675f8d",
      "metadata": {},
      "source": [
        "## Use labels to keep track of units for you and your collaborators\n",
        "\n",
        "One way to keep track of your data’s units is to include the unit in\n",
        "data **labels**. In the case of a `DataFrame`, that usually means the\n",
        "column names.\n",
        "\n",
        "<link rel=\"stylesheet\" type=\"text/css\" href=\"./assets/styles.css\"><div class=\"callout callout-style-default callout-titled callout-task\"><div class=\"callout-header\"><div class=\"callout-icon-container\"><i class=\"callout-icon\"></i></div><div class=\"callout-title-container flex-fill\">Try It: Add units to your column name</div></div><div class=\"callout-body-container callout-body\"><p>A big part of writing <strong>expressive</strong> code is descriptive\n",
        "labels. Let’s rename the columns of your dataframe to include units.\n",
        "Complete the following steps:</p>\n",
        "<ol type=\"1\">\n",
        "<li>Replace <code>dataframe</code> with the name of\n",
        "<strong>your</strong> <code>DataFrame</code>, and\n",
        "<code>dataframe_units</code> with an expressive new name.</li>\n",
        "<li>Check out the <a\n",
        "href=\"https://www.ncei.noaa.gov/data/global-historical-climatology-network-daily/doc/GHCND_documentation.pdf\">documentation\n",
        "for GCHNd data</a>. We downloaded data with “standard” units; find out\n",
        "what that means for temperature.</li>\n",
        "<li>Replace <code>'temperature-column-name'</code> with the temperature\n",
        "column name in your data, and <code>'temp_unit'</code> with a column\n",
        "name that includes the correct unit. For example, you could make a\n",
        "column called <code>'temperature_k'</code> to note that your\n",
        "temperatures are in degrees Kelvin.</li>\n",
        "</ol></div></div>"
      ]
    },
    {
      "cell_type": "code",
      "execution_count": null,
      "id": "a217da36",
      "metadata": {
        "template": "student"
      },
      "outputs": [],
      "source": [
        "#changing for portfolio project. adding the value is co2 in ppm\n",
        "\n",
        "thd_co2_units = co2_df.rename(columns={\n",
        "    'value': 'co2_ppm',\n",
        "})\n",
        "\n",
        "print(thd_co2_units['co2_ppm'])"
      ]
    },
    {
      "cell_type": "code",
      "execution_count": null,
      "id": "a8241ca6",
      "metadata": {
        "template": "student"
      },
      "outputs": [],
      "source": [
        "## also adding that altitude is in meters\n",
        "thd_co2_units = co2_df.rename(columns={\n",
        "    'altitude': 'meters',\n",
        "})\n",
        "\n",
        "print(thd_co2_units['meters'])"
      ]
    },
    {
      "cell_type": "markdown",
      "id": "a5e9c038-ed80-487a-8284-8d992d04fded",
      "metadata": {},
      "source": [
        "<link rel=\"stylesheet\" type=\"text/css\" href=\"./assets/styles.css\"><div class=\"callout callout-style-default callout-titled callout-extra\"><div class=\"callout-header\"><div class=\"callout-icon-container\"><i class=\"callout-icon\"></i></div><div class=\"callout-title-container flex-fill\">Looking for an Extra Challenge?</div></div><div class=\"callout-body-container callout-body\"><p>Using the code below as a framework, write and apply a\n",
        "<strong>function</strong> that converts to Celcius. You should also\n",
        "rewrite this function name and parameter names to be more\n",
        "expressive.</p></div></div>"
      ]
    },
    {
      "cell_type": "code",
      "execution_count": null,
      "id": "e0011478",
      "metadata": {
        "template": "student"
      },
      "outputs": [],
      "source": [
        "import matplotlib\n",
        "matplotlib.use(\"TkAgg\")\n",
        "from matplotlib import pyplot as plt"
      ]
    },
    {
      "cell_type": "markdown",
      "id": "6804e45f-6a25-462b-8c67-74387091278d",
      "metadata": {},
      "source": [
        "# STEP -1: Wrap up\n",
        "\n",
        "Don’t forget to store your variables so you can use them in other\n",
        "notebooks! Replace `var1` and `var2` with the variable you want to save,\n",
        "separated by spaces."
      ]
    },
    {
      "cell_type": "code",
      "execution_count": null,
      "id": "73e42c7f",
      "metadata": {},
      "outputs": [],
      "source": [
        "fahrenheit = boulder_tobs_units[\"fahrenheit\"]\n",
        "celsius = boulder_tobs_units[\"celsius\"]\n",
        "%store boulder_tobs_units"
      ]
    },
    {
      "cell_type": "markdown",
      "id": "884b5215-cdc9-4cb1-927d-70f3b38bbc20",
      "metadata": {},
      "source": [
        "Finally, be sure to `Restart` and `Run all` to make sure your notebook\n",
        "works all the way through!"
      ]
    }
  ],
  "metadata": {
    "kernelspec": {
      "display_name": "base",
      "language": "python",
      "name": "python3"
    },
    "language_info": {
      "codemirror_mode": {
        "name": "ipython",
        "version": 3
      },
      "file_extension": ".py",
      "mimetype": "text/x-python",
      "name": "python",
      "nbconvert_exporter": "python",
      "pygments_lexer": "ipython3",
      "version": "3.11.6"
    }
  },
  "nbformat": 4,
  "nbformat_minor": 5
}
